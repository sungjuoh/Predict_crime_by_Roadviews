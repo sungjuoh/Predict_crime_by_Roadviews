{
 "cells": [
  {
   "cell_type": "code",
   "execution_count": 1,
   "id": "conventional-russell",
   "metadata": {},
   "outputs": [],
   "source": [
    "from pathlib import Path\n",
    "from PIL import Image"
   ]
  },
  {
   "cell_type": "code",
   "execution_count": 25,
   "id": "finished-progressive",
   "metadata": {},
   "outputs": [
    {
     "name": "stdout",
     "output_type": "stream",
     "text": [
      "강남\n",
      "강동\n",
      "강북\n",
      "강서\n",
      "관악\n",
      "광진\n",
      "구로\n",
      "금천\n",
      "노원\n",
      "도봉\n",
      "동대문\n",
      "동작\n",
      "마포\n",
      "서대문\n",
      "서초\n",
      "성동\n",
      "성북\n",
      "송파\n",
      "양천\n",
      "영등포\n",
      "용산\n",
      "은평\n",
      "종로\n",
      "중\n",
      "중랑\n"
     ]
    }
   ],
   "source": [
    "base = Path.cwd()/'img_data'\n",
    "\n",
    "for folder in base.iterdir() :\n",
    "    i = 0\n",
    "    print(folder.stem)\n",
    "    for file in folder.iterdir() :\n",
    "        img = Image.open(file)\n",
    "        img_cropped = img.crop((0,70,600,670))\n",
    "        img_cropped.save(r'cropped_img_data/{}/{}_crop_{}.png'.format(str(folder).split('\\\\')[5],str(folder).split('\\\\')[5], i))\n",
    "        i += 1"
   ]
  },
  {
   "cell_type": "code",
   "execution_count": null,
   "id": "earned-english",
   "metadata": {},
   "outputs": [],
   "source": []
  }
 ],
 "metadata": {
  "kernelspec": {
   "display_name": "Python 3 (ipykernel)",
   "language": "python",
   "name": "python3"
  },
  "language_info": {
   "codemirror_mode": {
    "name": "ipython",
    "version": 3
   },
   "file_extension": ".py",
   "mimetype": "text/x-python",
   "name": "python",
   "nbconvert_exporter": "python",
   "pygments_lexer": "ipython3",
   "version": "3.8.5"
  }
 },
 "nbformat": 4,
 "nbformat_minor": 5
}
