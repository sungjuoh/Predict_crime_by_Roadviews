{
 "cells": [
  {
   "cell_type": "code",
   "execution_count": 1,
   "id": "aquatic-microwave",
   "metadata": {},
   "outputs": [],
   "source": [
    "import pandas as pd\n",
    "import requests\n",
    "import time\n",
    "\n",
    "from selenium.webdriver.common.keys import Keys\n",
    "from selenium import webdriver"
   ]
  },
  {
   "cell_type": "code",
   "execution_count": 13,
   "id": "recreational-color",
   "metadata": {},
   "outputs": [
    {
     "data": {
      "text/html": [
       "<div>\n",
       "<style scoped>\n",
       "    .dataframe tbody tr th:only-of-type {\n",
       "        vertical-align: middle;\n",
       "    }\n",
       "\n",
       "    .dataframe tbody tr th {\n",
       "        vertical-align: top;\n",
       "    }\n",
       "\n",
       "    .dataframe thead th {\n",
       "        text-align: right;\n",
       "    }\n",
       "</style>\n",
       "<table border=\"1\" class=\"dataframe\">\n",
       "  <thead>\n",
       "    <tr style=\"text-align: right;\">\n",
       "      <th></th>\n",
       "      <th>id</th>\n",
       "      <th>x</th>\n",
       "      <th>y</th>\n",
       "    </tr>\n",
       "  </thead>\n",
       "  <tbody>\n",
       "    <tr>\n",
       "      <th>0</th>\n",
       "      <td>0</td>\n",
       "      <td>129.127282</td>\n",
       "      <td>35.290779</td>\n",
       "    </tr>\n",
       "    <tr>\n",
       "      <th>1</th>\n",
       "      <td>1</td>\n",
       "      <td>129.054771</td>\n",
       "      <td>35.237638</td>\n",
       "    </tr>\n",
       "    <tr>\n",
       "      <th>2</th>\n",
       "      <td>2</td>\n",
       "      <td>129.087473</td>\n",
       "      <td>35.282382</td>\n",
       "    </tr>\n",
       "    <tr>\n",
       "      <th>3</th>\n",
       "      <td>3</td>\n",
       "      <td>129.084432</td>\n",
       "      <td>35.229450</td>\n",
       "    </tr>\n",
       "    <tr>\n",
       "      <th>4</th>\n",
       "      <td>4</td>\n",
       "      <td>129.062784</td>\n",
       "      <td>35.258237</td>\n",
       "    </tr>\n",
       "  </tbody>\n",
       "</table>\n",
       "</div>"
      ],
      "text/plain": [
       "   id           x          y\n",
       "0   0  129.127282  35.290779\n",
       "1   1  129.054771  35.237638\n",
       "2   2  129.087473  35.282382\n",
       "3   3  129.084432  35.229450\n",
       "4   4  129.062784  35.258237"
      ]
     },
     "execution_count": 13,
     "metadata": {},
     "output_type": "execute_result"
    }
   ],
   "source": [
    "random_points = pd.read_csv('busan/busan_random_points/부산_금정구.csv',encoding='cp949')\n",
    "random_points.head()"
   ]
  },
  {
   "cell_type": "code",
   "execution_count": 14,
   "id": "interracial-ceremony",
   "metadata": {},
   "outputs": [],
   "source": [
    "driver_path = \"C:\\\\Users\\\\dhtjd\\\\ECO5320\\\\chromedriver_win32\\\\chromedriver.exe\"\n",
    "driver = webdriver.Chrome(driver_path)\n",
    "driver.set_window_size(250,1350)\n",
    "#driver.maximize_window()\n",
    "\n",
    "for i in range(len(random_points)) :\n",
    "    try :\n",
    "        url = r'https://map.kakao.com/link/roadview/{},{}'.format(random_points.iloc[i,2],random_points.iloc[i,1])\n",
    "        driver.get(url)\n",
    "        time.sleep(3)\n",
    "        if i == 0 : \n",
    "            driver.find_element_by_xpath('//*[@id=\"dimmedLayer\"]').click()\n",
    "        #driver.find_element_by_xpath('//*[@id=\"view\"]/div[1]/div[1]/button').click()\n",
    "        #driver.find_element_by_xpath('//*[@id=\"view\"]/div[1]/div[1]/ul/li[2]/button/span[1]').click()\n",
    "        #driver.find_element_by_xpath('//*[@id=\"view\"]/div[1]/div[1]/ul/li[1]/button/span[1]').click()\n",
    "        driver.save_screenshot(r\"busan/busan_img/busan_road_views/부산_금정구/금정구_{}.png\".format(i)) # 전체화면 prt sc\n",
    "    except :\n",
    "        pass\n",
    "driver.close()"
   ]
  }
 ],
 "metadata": {
  "kernelspec": {
   "display_name": "Python 3 (ipykernel)",
   "language": "python",
   "name": "python3"
  },
  "language_info": {
   "codemirror_mode": {
    "name": "ipython",
    "version": 3
   },
   "file_extension": ".py",
   "mimetype": "text/x-python",
   "name": "python",
   "nbconvert_exporter": "python",
   "pygments_lexer": "ipython3",
   "version": "3.8.5"
  }
 },
 "nbformat": 4,
 "nbformat_minor": 5
}
